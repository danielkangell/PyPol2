{
 "cells": [
  {
   "cell_type": "code",
   "execution_count": 102,
   "metadata": {},
   "outputs": [],
   "source": [
    "import numpy as np"
   ]
  },
  {
   "cell_type": "code",
   "execution_count": 191,
   "metadata": {},
   "outputs": [],
   "source": [
    "def generateYs(x,z,MonDistance):\n",
    "    \"\"\"\n",
    "    decomposed function to generate a list of y values so that each point is, on average, mondistance apart\n",
    "    \"\"\"\n",
    "    y = [np.random.normal(5,1)]\n",
    "    for i in range(1,len(x)):\n",
    "        dist = np.random.normal(MonDistance,MonDistance/5)\n",
    "        xsquared = (x[i]-x[i-1])*(x[i]-x[i-1])\n",
    "        zsquared = (z[i]-z[i-1])*(z[i]-z[i-1])\n",
    "        if dist*dist-xsquared-zsquared > 0 : needed = np.sqrt(dist*dist-xsquared-zsquared)\n",
    "        else : needed = 0\n",
    "        y.append(y[i-1] + needed)\n",
    "    return y"
   ]
  },
  {
   "cell_type": "code",
   "execution_count": 197,
   "metadata": {},
   "outputs": [],
   "source": [
    "def writeHeader(MonomerCount = 50, latsize = 100):\n",
    "    \"\"\"\n",
    "    generates the header for the polymer file based on (n) the number of atoms\n",
    "    output is a string, \n",
    "    \n",
    "    input MonomerCount is an interger\n",
    "    Latsize is an interger or float, default is 100 \n",
    "    \"\"\"\n",
    "    header = \"\"\n",
    "    header += \"{}\\tatoms\\n\".format(MonomerCount)\n",
    "    header += \"{}\\tbonds\\n\".format(MonomerCount -1)\n",
    "    header += \"{}\\tangles\\n\".format(MonomerCount -2)\n",
    "    header += \"{}\\tdihedrals\\n\".format(MonomerCount -3)\n",
    "     \n",
    "    header += \"1\\tatom types\\n\"\n",
    "    header += \"1\\tbond types\\n\"\n",
    "    header += \"1\\tangle types\\n\"\n",
    "    header += \"1\\tdihedral types\\n\"\n",
    "\n",
    "    header += \"0.0000\\t{} xlo xhi\\n\".format(latsize)\n",
    "    header += \"0.0000\\t{} ylo yhi\\n\".format(latsize)\n",
    "    header += \"0.0000\\t{} zlo zhi\\n\".format(latsize)  \n",
    "    return header\n",
    "\n",
    "def writeMasses(mass):\n",
    "    masses = \"\"\n",
    "    masses += \"Masses\\n\"\n",
    "\n",
    "    masses += \"\\t1\\t{}\".format(mass)\n",
    "    return masses\n",
    "\n",
    "def writeAtoms(MonomerCount = 50, MonDistance = 2.3, latsize = 100):\n",
    "    \"\"\"\n",
    "    As of right now this function really only works if MonomerCount < latsize\n",
    "    although we can change the algorithm in the future\n",
    "    output is the string input of Atoms for Lammps\n",
    "    \n",
    "    MonomerCount ... interger number of monomers in the polymer\n",
    "    Mon distance ... is an int or float and the average spacing between monomer units\n",
    "    Latsize ... is an int or float is the lattice size\n",
    "    \n",
    "    \"\"\"\n",
    "    z = np.random.normal(latsize/2,.2,MonomerCount)\n",
    "    x = [np.random.normal(5,1)]\n",
    "    for i in range(1,MonomerCount):\n",
    "        x.append(x[i-1] + np.random.normal(np.sqrt(MonDistance),.3))\n",
    "    y = generateYs(x,z,MonDistance)\n",
    "    atoms = \"\"\n",
    "    atoms += \"Atoms\\n\"\n",
    "    for i in range(MonomerCount):\n",
    "        atoms += \"\\t{}\\t1\\t1\\t{}\\t{}\\t{}\\n\".format(i+1,x[i],y[i],z[i])\n",
    "    return atoms\n",
    "\n",
    "def writeBonds(MonomerCount = 50):\n",
    "    bonds = \"Bonds\\n\"\n",
    "    for i in range(MonomerCount-1):\n",
    "        bonds += \"\\t{}\\t{}\\t{}\\t{}\\n\".format(i+1,1,i+1,i+2)\n",
    "    return bonds\n",
    "\n",
    "def writeAngles(MonomerCount = 50):\n",
    "    angles = \"Angles\\n\"\n",
    "    for i in range(MonomerCount-2):\n",
    "        angles += \"\\t{}\\t{}\\t{}\\t{}\\t{}\\n\".format(i+1,1,i+1,i+2,i+3)\n",
    "    return angles\n",
    "\n",
    "def writeDihedrals(MonomerCount = 50):\n",
    "    dihedrals = \"Dihedrals\\n\"\n",
    "    for i in range(MonomerCount-3):\n",
    "        dihedrals += \"\\t{}\\t{}\\t{}\\t{}\\t{}\\t{}\\n\".format(i+1,1,i+1,i+2,i+3,i+4)\n",
    "    return dihedrals"
   ]
  },
  {
   "cell_type": "code",
   "execution_count": 195,
   "metadata": {},
   "outputs": [],
   "source": [
    "def compileString(MonomerCount = 50 , latsize = 100, MonDistance=2.3):\n",
    "    \"\"\"\n",
    "    outputs a \n",
    "    \"\"\"\n",
    "    \n",
    "    finalString = \"\"\n",
    "    finalString += writeHeader(MonomerCount, latsize)\n",
    "    finalString += \"\\n\"\n",
    "    finalString += writeMasses(14)\n",
    "    finalString += \"\\n\"\n",
    "    finalString += writeAtoms(MonomerCount,MonDistance,latsize)\n",
    "    finalString += \"\\n\"\n",
    "    finalString += writeBonds()\n",
    "    finalString += \"\\n\"\n",
    "    finalString += writeAngles()\n",
    "    finalString += \"\\n\"\n",
    "    finalString += writeDihedrals()\n",
    "    with open('polyinfo.txt', \"w\") as text_file:\n",
    "        text_file.write(finalString)\n",
    "\n"
   ]
  },
  {
   "cell_type": "code",
   "execution_count": 198,
   "metadata": {},
   "outputs": [],
   "source": [
    "compileString()"
   ]
  },
  {
   "cell_type": "code",
   "execution_count": null,
   "metadata": {},
   "outputs": [],
   "source": []
  }
 ],
 "metadata": {
  "kernelspec": {
   "display_name": "Python 3",
   "language": "python",
   "name": "python3"
  },
  "language_info": {
   "codemirror_mode": {
    "name": "ipython",
    "version": 3
   },
   "file_extension": ".py",
   "mimetype": "text/x-python",
   "name": "python",
   "nbconvert_exporter": "python",
   "pygments_lexer": "ipython3",
   "version": "3.6.8"
  }
 },
 "nbformat": 4,
 "nbformat_minor": 2
}
